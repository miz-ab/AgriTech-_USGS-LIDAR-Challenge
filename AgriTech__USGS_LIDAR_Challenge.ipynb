{
  "nbformat": 4,
  "nbformat_minor": 0,
  "metadata": {
    "colab": {
      "name": "AgriTech _USGS LIDAR Challenge.ipynb",
      "provenance": [],
      "mount_file_id": "1dh5vhYv0XIuRtByTcUUOb9JoHXOHPPS7",
      "authorship_tag": "ABX9TyMnFmasIKBhiH3HQhk6Gwl9",
      "include_colab_link": true
    },
    "kernelspec": {
      "name": "python3",
      "display_name": "Python 3"
    },
    "language_info": {
      "name": "python"
    }
  },
  "cells": [
    {
      "cell_type": "markdown",
      "metadata": {
        "id": "view-in-github",
        "colab_type": "text"
      },
      "source": [
        "<a href=\"https://colab.research.google.com/github/miz-ab/AgriTech-_USGS-LIDAR-Challenge/blob/master/AgriTech__USGS_LIDAR_Challenge.ipynb\" target=\"_parent\"><img src=\"https://colab.research.google.com/assets/colab-badge.svg\" alt=\"Open In Colab\"/></a>"
      ]
    },
    {
      "cell_type": "code",
      "metadata": {
        "id": "O-_LLsp7eEt_"
      },
      "source": [
        "pip install earthpy"
      ],
      "execution_count": null,
      "outputs": []
    },
    {
      "cell_type": "code",
      "metadata": {
        "id": "Ibxjp0VZeMkl"
      },
      "source": [
        "from google.colab import drive\n",
        "drive.mount('/content/drive')"
      ],
      "execution_count": null,
      "outputs": []
    },
    {
      "cell_type": "code",
      "metadata": {
        "id": "2cWR4-LvefrO"
      },
      "source": [
        "import os\n",
        "from glob import glob\n",
        "import matplotlib.pyplot as plt\n",
        "import rasterio as rio\n",
        "from rasterio.plot import plotting_extent\n",
        "import geopandas as gpd\n",
        "import earthpy as et\n",
        "import earthpy.spatial as es\n",
        "import earthpy.plot as ep\n",
        "\n",
        "from osgeo import gdal\n",
        "import numpy as np\n",
        "import matplotlib.pyplot as plt"
      ],
      "execution_count": 14,
      "outputs": []
    },
    {
      "cell_type": "code",
      "metadata": {
        "id": "6My2e8qufLDp"
      },
      "source": [
        "landsat_bands_data_path = \"/content/drive/MyDrive/week_6_files/test.tif\"\n",
        "stack_band_paths = glob(landsat_bands_data_path)"
      ],
      "execution_count": 7,
      "outputs": []
    },
    {
      "cell_type": "code",
      "metadata": {
        "id": "yky4wrYpfVyw"
      },
      "source": [
        "stack_band_paths.sort()"
      ],
      "execution_count": 8,
      "outputs": []
    },
    {
      "cell_type": "code",
      "metadata": {
        "colab": {
          "base_uri": "https://localhost:8080/"
        },
        "id": "xswxpUa_fiKU",
        "outputId": "7c39879b-d7cd-4cb6-e518-3ac0fbc07ee4"
      },
      "source": [
        "stack_band_paths"
      ],
      "execution_count": 9,
      "outputs": [
        {
          "output_type": "execute_result",
          "data": {
            "text/plain": [
              "['/content/drive/MyDrive/week_6_files/test.tif']"
            ]
          },
          "metadata": {},
          "execution_count": 9
        }
      ]
    },
    {
      "cell_type": "code",
      "metadata": {
        "id": "7nwrH7rQf5e1"
      },
      "source": [
        "ds = gdal.Open(\"/content/drive/MyDrive/week_6_files/test.tif\")\n",
        "gt = ds.GetGeoTransform()\n",
        "proj = ds.GetProjection()"
      ],
      "execution_count": 15,
      "outputs": []
    },
    {
      "cell_type": "code",
      "metadata": {
        "colab": {
          "base_uri": "https://localhost:8080/"
        },
        "id": "Pw4XwPXyjL3F",
        "outputId": "aed29633-1113-459b-b4f4-d9930376286d"
      },
      "source": [
        "print(gt)"
      ],
      "execution_count": 18,
      "outputs": [
        {
          "output_type": "stream",
          "text": [
            "(-11669525.018, 1.0, 0.0, 4778714.607, 0.0, -1.0)\n"
          ],
          "name": "stdout"
        }
      ]
    },
    {
      "cell_type": "code",
      "metadata": {
        "colab": {
          "base_uri": "https://localhost:8080/"
        },
        "id": "cNwAd8bfjQmA",
        "outputId": "5eceb03f-5e06-4371-92ce-8541b0107def"
      },
      "source": [
        "print(proj)"
      ],
      "execution_count": 19,
      "outputs": [
        {
          "output_type": "stream",
          "text": [
            "PROJCS[\"WGS 84 / Pseudo-Mercator\",GEOGCS[\"WGS 84\",DATUM[\"WGS_1984\",SPHEROID[\"WGS 84\",6378137,298.257223563,AUTHORITY[\"EPSG\",\"7030\"]],AUTHORITY[\"EPSG\",\"6326\"]],PRIMEM[\"Greenwich\",0,AUTHORITY[\"EPSG\",\"8901\"]],UNIT[\"degree\",0.0174532925199433,AUTHORITY[\"EPSG\",\"9122\"]],AUTHORITY[\"EPSG\",\"4326\"]],PROJECTION[\"Mercator_1SP\"],PARAMETER[\"central_meridian\",0],PARAMETER[\"scale_factor\",1],PARAMETER[\"false_easting\",0],PARAMETER[\"false_northing\",0],UNIT[\"metre\",1,AUTHORITY[\"EPSG\",\"9001\"]],AXIS[\"X\",EAST],AXIS[\"Y\",NORTH],EXTENSION[\"PROJ4\",\"+proj=merc +a=6378137 +b=6378137 +lat_ts=0.0 +lon_0=0.0 +x_0=0.0 +y_0=0 +k=1.0 +units=m +nadgrids=@null +wktext +no_defs\"],AUTHORITY[\"EPSG\",\"3857\"]]\n"
          ],
          "name": "stdout"
        }
      ]
    },
    {
      "cell_type": "code",
      "metadata": {
        "id": "uTPATR3Rlvmc"
      },
      "source": [
        ""
      ],
      "execution_count": null,
      "outputs": []
    },
    {
      "cell_type": "code",
      "metadata": {
        "id": "q4PMhgSPiszk"
      },
      "source": [
        "band = ds.GetRasterBand(1)\n",
        "array = band.ReadAsArray()"
      ],
      "execution_count": 16,
      "outputs": []
    },
    {
      "cell_type": "code",
      "metadata": {
        "colab": {
          "base_uri": "https://localhost:8080/",
          "height": 286
        },
        "id": "5vUcmE40ix76",
        "outputId": "1f476acc-3397-455d-8202-e3d3ccabe1b7"
      },
      "source": [
        "plt.figure()\n",
        "plt.imshow(array)"
      ],
      "execution_count": 17,
      "outputs": [
        {
          "output_type": "execute_result",
          "data": {
            "text/plain": [
              "<matplotlib.image.AxesImage at 0x7f2c804e20d0>"
            ]
          },
          "metadata": {},
          "execution_count": 17
        },
        {
          "output_type": "display_data",
          "data": {
            "image/png": "[encoded data removed]",
            "text/plain": [
              "<Figure size 432x288 with 1 Axes>"
            ]
          },
          "metadata": {
            "needs_background": "light"
          }
        }
      ]
    },
    {
      "cell_type": "code",
      "metadata": {
        "colab": {
          "base_uri": "https://localhost:8080/",
          "height": 286
        },
        "id": "iqU-KEhslxFi",
        "outputId": "2b0b4c36-c092-4088-d19c-772aa8221a21"
      },
      "source": [
        "#manipulate into numpy array \n",
        "binmask = np.where((array >= np.mean(array)),1,0)\n",
        "plt.figure()\n",
        "plt.imshow(binmask)"
      ],
      "execution_count": 21,
      "outputs": [
        {
          "output_type": "execute_result",
          "data": {
            "text/plain": [
              "<matplotlib.image.AxesImage at 0x7f2c7fcdd110>"
            ]
          },
          "metadata": {},
          "execution_count": 21
        },
        {
          "output_type": "display_data",
          "data": {
            "image/png": "[encoded data removed]",
            "text/plain": [
              "<Figure size 432x288 with 1 Axes>"
            ]
          },
          "metadata": {
            "needs_background": "light"
          }
        }
      ]
    },
    {
      "cell_type": "code",
      "metadata": {
        "id": "Uo7Akcm5oUQw"
      },
      "source": [
        "#export to gdal file \n",
        "driver = gdal.GetDriverByName(\"GTiff\")\n",
        "driver.Register()\n",
        "outds = driver.Create(\"/content/drive/MyDrive/week_6_files/binmask.tif\", xsize = binmask.shape[1],\n",
        "                      ysize = binmask.shape[0], bands = 1, \n",
        "                      eType = gdal.GDT_Int16)\n",
        "outds.SetGeoTransform(gt)\n",
        "outds.SetProjection(proj)\n",
        "outband = outds.GetRasterBand(1)\n",
        "outband.WriteArray(binmask)\n",
        "outband.SetNoDataValue(np.nan)\n",
        "outband.FlushCache()"
      ],
      "execution_count": 24,
      "outputs": []
    },
    {
      "cell_type": "code",
      "metadata": {
        "id": "UCoK1TMvpaA2"
      },
      "source": [
        "# close our datasets and bands!!!\n",
        "outband = None\n",
        "outds = None"
      ],
      "execution_count": 25,
      "outputs": []
    }
  ]
}